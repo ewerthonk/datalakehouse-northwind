{
 "cells": [
  {
   "cell_type": "markdown",
   "metadata": {
    "application/vnd.databricks.v1+cell": {
     "cellMetadata": {},
     "inputWidgets": {},
     "nuid": "d0ec3116-f299-4e4a-9be2-4a0b2cb21409",
     "showTitle": false,
     "title": ""
    }
   },
   "source": [
    "# Setup"
   ]
  },
  {
   "cell_type": "code",
   "execution_count": 0,
   "metadata": {
    "application/vnd.databricks.v1+cell": {
     "cellMetadata": {},
     "inputWidgets": {},
     "nuid": "3e767d0e-76c5-4f39-b025-f773522e1623",
     "showTitle": false,
     "title": ""
    }
   },
   "outputs": [],
   "source": [
    "files_arrival_path = \"dbfs:/FileStore/Northwind/Raw/\"\n",
    "database_name = \"northwind\"\n",
    "file_format = \"CSV\"\n",
    "files = [\n",
    "    \"categories.csv\",\n",
    "    \"customer_customer_demo.csv\",\n",
    "    \"customer_demographics.csv\",\n",
    "    \"customers.csv\",\n",
    "    \"employee_territories.csv\",\n",
    "    \"employees.csv\",\n",
    "    \"order_details.csv\",\n",
    "    \"orders.csv\",\n",
    "    \"products.csv\",\n",
    "    \"regions.csv\",\n",
    "    \"shippers.csv\",\n",
    "    \"suppliers.csv\",\n",
    "    \"territories.csv\",\n",
    "    \"us_states.csv\"\n",
    "]"
   ]
  },
  {
   "cell_type": "markdown",
   "metadata": {
    "application/vnd.databricks.v1+cell": {
     "cellMetadata": {},
     "inputWidgets": {},
     "nuid": "0138f808-f4ca-4324-8c65-12f71c7c8ff4",
     "showTitle": false,
     "title": ""
    }
   },
   "source": [
    "**Community Edition Limitation**\n",
    "\n",
    "Remains from files and tables that do not get cleaned. Comment/uncomment as necessary."
   ]
  },
  {
   "cell_type": "code",
   "execution_count": 0,
   "metadata": {
    "application/vnd.databricks.v1+cell": {
     "cellMetadata": {},
     "inputWidgets": {},
     "nuid": "94e2e884-d1e6-40ae-ab7c-b7ae778a4f33",
     "showTitle": false,
     "title": ""
    }
   },
   "outputs": [
    {
     "data": {
      "text/plain": [
       "Out[6]: True"
      ]
     },
     "metadata": {
      "application/vnd.databricks.v1+output": {
       "addedWidgets": {},
       "arguments": {},
       "data": "Out[6]: True",
       "datasetInfos": [],
       "metadata": {},
       "removedWidgets": [],
       "type": "ansi"
      }
     },
     "output_type": "display_data"
    }
   ],
   "source": [
    "dbutils.fs.rm(\"dbfs:/user/hive/warehouse/northwind.db\", recurse=True)\n",
    "spark.sql(f\"DROP SCHEMA IF EXISTS {database_name} CASCADE\")"
   ]
  },
  {
   "cell_type": "markdown",
   "metadata": {
    "application/vnd.databricks.v1+cell": {
     "cellMetadata": {},
     "inputWidgets": {},
     "nuid": "f7677a14-f45c-44c5-bb4c-f0088ca815e5",
     "showTitle": false,
     "title": ""
    }
   },
   "source": [
    "# Creating Database"
   ]
  },
  {
   "cell_type": "code",
   "execution_count": 0,
   "metadata": {
    "application/vnd.databricks.v1+cell": {
     "cellMetadata": {},
     "inputWidgets": {},
     "nuid": "acab1cb3-999e-48fe-9507-19a3d8c8e999",
     "showTitle": false,
     "title": ""
    }
   },
   "outputs": [
    {
     "data": {
      "text/plain": [
       "Out[3]: DataFrame[]"
      ]
     },
     "metadata": {
      "application/vnd.databricks.v1+output": {
       "addedWidgets": {},
       "arguments": {},
       "data": "Out[3]: DataFrame[]",
       "datasetInfos": [],
       "metadata": {},
       "removedWidgets": [],
       "type": "ansi"
      }
     },
     "output_type": "display_data"
    }
   ],
   "source": [
    "spark.sql(f\"\"\"\n",
    "    CREATE SCHEMA IF NOT EXISTS {database_name}\n",
    "    COMMENT 'Northwind delta lakehouse';\n",
    "\"\"\")\n",
    "\n",
    "spark.sql(f\"USE SCHEMA {database_name};\")"
   ]
  },
  {
   "cell_type": "markdown",
   "metadata": {
    "application/vnd.databricks.v1+cell": {
     "cellMetadata": {},
     "inputWidgets": {},
     "nuid": "fcd6cfe1-7c80-41ac-9c41-af55a226c61a",
     "showTitle": false,
     "title": ""
    }
   },
   "source": [
    "# Creating tables"
   ]
  },
  {
   "cell_type": "code",
   "execution_count": 0,
   "metadata": {
    "application/vnd.databricks.v1+cell": {
     "cellMetadata": {},
     "inputWidgets": {},
     "nuid": "5998328b-501c-4fdf-a3a9-41b10410a7f4",
     "showTitle": false,
     "title": ""
    }
   },
   "outputs": [],
   "source": [
    "for file in files:\n",
    "    spark.sql(f\"\"\"\n",
    "        CREATE TABLE IF NOT EXISTS br_{file.split('.')[0]}\n",
    "        TBLPROPERTIES('quality'='bronze')\n",
    "    \"\"\")\n",
    "\n",
    "    spark.sql(f\"\"\"\n",
    "        COPY INTO br_{file.split('.')[0]}\n",
    "        FROM '{files_arrival_path+file}'\n",
    "        FILEFORMAT = {file_format}\n",
    "        FORMAT_OPTIONS ('mergeSchema'='true', 'header'='true')\n",
    "        COPY_OPTIONS ('mergeSchema'='true');\n",
    "    \"\"\")"
   ]
  }
 ],
 "metadata": {
  "application/vnd.databricks.v1+notebook": {
   "dashboards": [],
   "language": "python",
   "notebookMetadata": {
    "mostRecentlyExecutedCommandWithImplicitDF": {
     "commandId": -1,
     "dataframes": [
      "_sqldf"
     ]
    },
    "pythonIndentUnit": 4
   },
   "notebookName": "1.0-ejk-bronze-layer",
   "notebookOrigID": 4336143128673951,
   "widgets": {}
  },
  "language_info": {
   "name": "python"
  }
 },
 "nbformat": 4,
 "nbformat_minor": 0
}
