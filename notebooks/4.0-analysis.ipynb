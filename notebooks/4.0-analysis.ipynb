{
 "cells": [
  {
   "cell_type": "markdown",
   "metadata": {
    "application/vnd.databricks.v1+cell": {
     "cellMetadata": {},
     "inputWidgets": {},
     "nuid": "65a9d2e3-9335-426b-9e99-c8d9d39848a6",
     "showTitle": false,
     "title": ""
    }
   },
   "source": [
    "# Setup"
   ]
  },
  {
   "cell_type": "code",
   "execution_count": null,
   "metadata": {
    "application/vnd.databricks.v1+cell": {
     "cellMetadata": {},
     "inputWidgets": {},
     "nuid": "3e767d0e-76c5-4f39-b025-f773522e1623",
     "showTitle": false,
     "title": ""
    }
   },
   "outputs": [
    {
     "data": {
      "text/plain": [
       "Out[9]: DataFrame[]"
      ]
     },
     "metadata": {
      "application/vnd.databricks.v1+output": {
       "addedWidgets": {},
       "arguments": {},
       "data": "Out[9]: DataFrame[]",
       "datasetInfos": [],
       "metadata": {},
       "removedWidgets": [],
       "type": "ansi"
      }
     },
     "output_type": "display_data"
    }
   ],
   "source": [
    "database_name = \"northwind\"\n",
    "spark.sql(f\"USE SCHEMA {database_name};\")"
   ]
  },
  {
   "cell_type": "markdown",
   "metadata": {
    "application/vnd.databricks.v1+cell": {
     "cellMetadata": {},
     "inputWidgets": {},
     "nuid": "e118ec37-acd9-4f7c-ade4-b9b503a0e8a1",
     "showTitle": false,
     "title": ""
    }
   },
   "source": [
    "# Analysis"
   ]
  },
  {
   "attachments": {},
   "cell_type": "markdown",
   "metadata": {
    "application/vnd.databricks.v1+cell": {
     "cellMetadata": {},
     "inputWidgets": {},
     "nuid": "990e6c6b-056b-4ac2-9d50-8e08f1b52d9f",
     "showTitle": false,
     "title": ""
    }
   },
   "source": [
    "## What are the 5 least sold products?\n",
    "\n",
    "Using **PySpark** and **gl_product_sales** table"
   ]
  },
  {
   "cell_type": "code",
   "execution_count": null,
   "metadata": {
    "application/vnd.databricks.v1+cell": {
     "cellMetadata": {},
     "inputWidgets": {},
     "nuid": "6539b1df-d7ac-4acc-b15d-4265468a18e4",
     "showTitle": false,
     "title": ""
    }
   },
   "outputs": [
    {
     "data": {
      "text/html": [
       "<style scoped>\n",
       "  .table-result-container {\n",
       "    max-height: 300px;\n",
       "    overflow: auto;\n",
       "  }\n",
       "  table, th, td {\n",
       "    border: 1px solid black;\n",
       "    border-collapse: collapse;\n",
       "  }\n",
       "  th, td {\n",
       "    padding: 5px;\n",
       "  }\n",
       "  th {\n",
       "    text-align: left;\n",
       "  }\n",
       "</style><div class='table-result-container'><table class='table-result'><thead style='background-color: white'><tr><th>product_name</th><th>sales</th></tr></thead><tbody><tr><td>Mishi Kobe Niku</td><td>5</td></tr><tr><td>Genen Shouyu</td><td>6</td></tr><tr><td>Chocolade</td><td>6</td></tr><tr><td>Gravad lax</td><td>6</td></tr><tr><td>Louisiana Hot Spiced Okra</td><td>8</td></tr></tbody></table></div>"
      ]
     },
     "metadata": {
      "application/vnd.databricks.v1+output": {
       "addedWidgets": {},
       "aggData": [],
       "aggError": "",
       "aggOverflow": false,
       "aggSchema": [],
       "aggSeriesLimitReached": false,
       "aggType": "",
       "arguments": {},
       "columnCustomDisplayInfos": {},
       "data": [
        [
         "Mishi Kobe Niku",
         5
        ],
        [
         "Genen Shouyu",
         6
        ],
        [
         "Chocolade",
         6
        ],
        [
         "Gravad lax",
         6
        ],
        [
         "Louisiana Hot Spiced Okra",
         8
        ]
       ],
       "datasetInfos": [],
       "dbfsResultPath": null,
       "isJsonSchema": true,
       "metadata": {},
       "overflow": false,
       "plotOptions": {
        "customPlotOptions": {},
        "displayType": "table",
        "pivotAggregation": null,
        "pivotColumns": null,
        "xColumns": null,
        "yColumns": null
       },
       "removedWidgets": [],
       "schema": [
        {
         "metadata": "{}",
         "name": "product_name",
         "type": "\"string\""
        },
        {
         "metadata": "{}",
         "name": "sales",
         "type": "\"long\""
        }
       ],
       "type": "table"
      }
     },
     "output_type": "display_data"
    }
   ],
   "source": [
    "from operator import attrgetter\n",
    "display(spark.table(\"gl_products_sales\").rdd.takeOrdered(5, attrgetter(\"sales\")))"
   ]
  },
  {
   "cell_type": "markdown",
   "metadata": {
    "application/vnd.databricks.v1+cell": {
     "cellMetadata": {},
     "inputWidgets": {},
     "nuid": "5354fbf7-0e3e-4183-b39b-4c0ae159b375",
     "showTitle": false,
     "title": ""
    }
   },
   "source": [
    "## What are the top 5 Customers with the highest number of purchases?\n",
    "\n",
    "Using **Koalas** and **gl_customer_number_of_purchases**"
   ]
  },
  {
   "cell_type": "code",
   "execution_count": null,
   "metadata": {
    "application/vnd.databricks.v1+cell": {
     "cellMetadata": {},
     "inputWidgets": {},
     "nuid": "87082faf-4831-4b92-9284-8867702b0370",
     "showTitle": false,
     "title": ""
    }
   },
   "outputs": [
    {
     "data": {
      "text/plain": [
       "Requirement already satisfied: koalas in /local_disk0/.ephemeral_nfs/envs/pythonEnv-c35ac7eb-8de6-40ed-a579-81d477b3a8db/lib/python3.9/site-packages (1.8.2)\r\n",
       "Requirement already satisfied: pandas>=0.23.2 in /databricks/python3/lib/python3.9/site-packages (from koalas) (1.3.4)\r\n",
       "Requirement already satisfied: numpy>=1.14 in /databricks/python3/lib/python3.9/site-packages (from koalas) (1.20.3)\r\n",
       "Requirement already satisfied: pyarrow>=0.10 in /databricks/python3/lib/python3.9/site-packages (from koalas) (7.0.0)\r\n",
       "Requirement already satisfied: python-dateutil>=2.7.3 in /databricks/python3/lib/python3.9/site-packages (from pandas>=0.23.2->koalas) (2.8.2)\r\n",
       "Requirement already satisfied: pytz>=2017.3 in /databricks/python3/lib/python3.9/site-packages (from pandas>=0.23.2->koalas) (2021.3)\r\n",
       "Requirement already satisfied: six>=1.5 in /databricks/python3/lib/python3.9/site-packages (from python-dateutil>=2.7.3->pandas>=0.23.2->koalas) (1.16.0)\r\n",
       "\u001b[33mWARNING: You are using pip version 21.2.4; however, version 22.3.1 is available.\r\n",
       "You should consider upgrading via the '/local_disk0/.ephemeral_nfs/envs/pythonEnv-c35ac7eb-8de6-40ed-a579-81d477b3a8db/bin/python -m pip install --upgrade pip' command.\u001b[0m\r\n"
      ]
     },
     "metadata": {
      "application/vnd.databricks.v1+output": {
       "addedWidgets": {},
       "arguments": {},
       "data": "Requirement already satisfied: koalas in /local_disk0/.ephemeral_nfs/envs/pythonEnv-c35ac7eb-8de6-40ed-a579-81d477b3a8db/lib/python3.9/site-packages (1.8.2)\r\nRequirement already satisfied: pandas>=0.23.2 in /databricks/python3/lib/python3.9/site-packages (from koalas) (1.3.4)\r\nRequirement already satisfied: numpy>=1.14 in /databricks/python3/lib/python3.9/site-packages (from koalas) (1.20.3)\r\nRequirement already satisfied: pyarrow>=0.10 in /databricks/python3/lib/python3.9/site-packages (from koalas) (7.0.0)\r\nRequirement already satisfied: python-dateutil>=2.7.3 in /databricks/python3/lib/python3.9/site-packages (from pandas>=0.23.2->koalas) (2.8.2)\r\nRequirement already satisfied: pytz>=2017.3 in /databricks/python3/lib/python3.9/site-packages (from pandas>=0.23.2->koalas) (2021.3)\r\nRequirement already satisfied: six>=1.5 in /databricks/python3/lib/python3.9/site-packages (from python-dateutil>=2.7.3->pandas>=0.23.2->koalas) (1.16.0)\r\n\u001b[33mWARNING: You are using pip version 21.2.4; however, version 22.3.1 is available.\r\nYou should consider upgrading via the '/local_disk0/.ephemeral_nfs/envs/pythonEnv-c35ac7eb-8de6-40ed-a579-81d477b3a8db/bin/python -m pip install --upgrade pip' command.\u001b[0m\r\n",
       "datasetInfos": [],
       "metadata": {},
       "removedWidgets": [],
       "type": "ansi"
      }
     },
     "output_type": "display_data"
    }
   ],
   "source": [
    "!pip install koalas  # Needed in the community edition (as the cluster has to be recreated)"
   ]
  },
  {
   "cell_type": "code",
   "execution_count": null,
   "metadata": {
    "application/vnd.databricks.v1+cell": {
     "cellMetadata": {},
     "inputWidgets": {},
     "nuid": "2309e64c-bfa2-4c79-8d5d-3cc50d0f4204",
     "showTitle": false,
     "title": ""
    }
   },
   "outputs": [
    {
     "data": {
      "text/html": [
       "<style scoped>\n",
       "  .table-result-container {\n",
       "    max-height: 300px;\n",
       "    overflow: auto;\n",
       "  }\n",
       "  table, th, td {\n",
       "    border: 1px solid black;\n",
       "    border-collapse: collapse;\n",
       "  }\n",
       "  th, td {\n",
       "    padding: 5px;\n",
       "  }\n",
       "  th {\n",
       "    text-align: left;\n",
       "  }\n",
       "</style><div class='table-result-container'><table class='table-result'><thead style='background-color: white'><tr><th>number_of_purchases</th><th>company_name</th><th>contact_name</th><th>contact_title</th></tr></thead><tbody><tr><td>31</td><td>Save-a-lot Markets</td><td>Jose Pavarotti</td><td>Sales Representative</td></tr><tr><td>30</td><td>Ernst Handel</td><td>Roland Mendel</td><td>Sales Manager</td></tr><tr><td>28</td><td>QUICK-Stop</td><td>Horst Kloss</td><td>Accounting Manager</td></tr><tr><td>19</td><td>Folk och fä HB</td><td>Maria Larsson</td><td>Owner</td></tr><tr><td>19</td><td>Hungry Owl All-Night Grocers</td><td>Patricia McKenna</td><td>Sales Associate</td></tr></tbody></table></div>"
      ]
     },
     "metadata": {
      "application/vnd.databricks.v1+output": {
       "addedWidgets": {},
       "aggData": [],
       "aggError": "",
       "aggOverflow": false,
       "aggSchema": [],
       "aggSeriesLimitReached": false,
       "aggType": "",
       "arguments": {},
       "columnCustomDisplayInfos": {},
       "data": [
        [
         31,
         "Save-a-lot Markets",
         "Jose Pavarotti",
         "Sales Representative"
        ],
        [
         30,
         "Ernst Handel",
         "Roland Mendel",
         "Sales Manager"
        ],
        [
         28,
         "QUICK-Stop",
         "Horst Kloss",
         "Accounting Manager"
        ],
        [
         19,
         "Folk och fä HB",
         "Maria Larsson",
         "Owner"
        ],
        [
         19,
         "Hungry Owl All-Night Grocers",
         "Patricia McKenna",
         "Sales Associate"
        ]
       ],
       "datasetInfos": [],
       "dbfsResultPath": null,
       "isJsonSchema": true,
       "metadata": {},
       "overflow": false,
       "plotOptions": {
        "customPlotOptions": {},
        "displayType": "table",
        "pivotAggregation": null,
        "pivotColumns": null,
        "xColumns": null,
        "yColumns": null
       },
       "removedWidgets": [],
       "schema": [
        {
         "metadata": "{}",
         "name": "number_of_purchases",
         "type": "\"long\""
        },
        {
         "metadata": "{}",
         "name": "company_name",
         "type": "\"string\""
        },
        {
         "metadata": "{}",
         "name": "contact_name",
         "type": "\"string\""
        },
        {
         "metadata": "{}",
         "name": "contact_title",
         "type": "\"string\""
        }
       ],
       "type": "table"
      }
     },
     "output_type": "display_data"
    }
   ],
   "source": [
    "import databricks.koalas as ks\n",
    "\n",
    "display(ks.read_table(\"gl_customer_number_of_purchases\").nlargest(5, \"number_of_purchases\"))"
   ]
  },
  {
   "cell_type": "markdown",
   "metadata": {
    "application/vnd.databricks.v1+cell": {
     "cellMetadata": {},
     "inputWidgets": {},
     "nuid": "4558b450-4d4a-499d-9322-11610a433993",
     "showTitle": false,
     "title": ""
    }
   },
   "source": [
    "## What are the top 5 Customers with the highest purchases value?\n",
    "\n",
    "Using **Spark Pandas** and **gl_customer_value_of_purchases**"
   ]
  },
  {
   "cell_type": "code",
   "execution_count": null,
   "metadata": {
    "application/vnd.databricks.v1+cell": {
     "cellMetadata": {},
     "inputWidgets": {},
     "nuid": "1812a524-ca6d-4f68-ab34-ec88080fcbbc",
     "showTitle": false,
     "title": ""
    }
   },
   "outputs": [
    {
     "data": {
      "text/html": [
       "<style scoped>\n",
       "  .table-result-container {\n",
       "    max-height: 300px;\n",
       "    overflow: auto;\n",
       "  }\n",
       "  table, th, td {\n",
       "    border: 1px solid black;\n",
       "    border-collapse: collapse;\n",
       "  }\n",
       "  th, td {\n",
       "    padding: 5px;\n",
       "  }\n",
       "  th {\n",
       "    text-align: left;\n",
       "  }\n",
       "</style><div class='table-result-container'><table class='table-result'><thead style='background-color: white'><tr><th>value_of_purchases</th><th>company_name</th><th>contact_name</th><th>contact_title</th></tr></thead><tbody><tr><td>101205.5025</td><td>QUICK-Stop</td><td>Horst Kloss</td><td>Accounting Manager</td></tr><tr><td>100529.81</td><td>Save-a-lot Markets</td><td>Jose Pavarotti</td><td>Sales Representative</td></tr><tr><td>96662.34</td><td>Ernst Handel</td><td>Roland Mendel</td><td>Sales Manager</td></tr><tr><td>80290.07400000001</td><td>Rattlesnake Canyon Grocery</td><td>Paula Wilson</td><td>Assistant Sales Representative</td></tr><tr><td>58042.04750000001</td><td>Hungry Owl All-Night Grocers</td><td>Patricia McKenna</td><td>Sales Associate</td></tr></tbody></table></div>"
      ]
     },
     "metadata": {
      "application/vnd.databricks.v1+output": {
       "addedWidgets": {},
       "aggData": [],
       "aggError": "",
       "aggOverflow": false,
       "aggSchema": [],
       "aggSeriesLimitReached": false,
       "aggType": "",
       "arguments": {},
       "columnCustomDisplayInfos": {},
       "data": [
        [
         101205.5025,
         "QUICK-Stop",
         "Horst Kloss",
         "Accounting Manager"
        ],
        [
         100529.81,
         "Save-a-lot Markets",
         "Jose Pavarotti",
         "Sales Representative"
        ],
        [
         96662.34,
         "Ernst Handel",
         "Roland Mendel",
         "Sales Manager"
        ],
        [
         80290.07400000001,
         "Rattlesnake Canyon Grocery",
         "Paula Wilson",
         "Assistant Sales Representative"
        ],
        [
         58042.04750000001,
         "Hungry Owl All-Night Grocers",
         "Patricia McKenna",
         "Sales Associate"
        ]
       ],
       "datasetInfos": [],
       "dbfsResultPath": null,
       "isJsonSchema": true,
       "metadata": {},
       "overflow": false,
       "plotOptions": {
        "customPlotOptions": {},
        "displayType": "table",
        "pivotAggregation": null,
        "pivotColumns": null,
        "xColumns": null,
        "yColumns": null
       },
       "removedWidgets": [],
       "schema": [
        {
         "metadata": "{}",
         "name": "value_of_purchases",
         "type": "\"double\""
        },
        {
         "metadata": "{}",
         "name": "company_name",
         "type": "\"string\""
        },
        {
         "metadata": "{}",
         "name": "contact_name",
         "type": "\"string\""
        },
        {
         "metadata": "{}",
         "name": "contact_title",
         "type": "\"string\""
        }
       ],
       "type": "table"
      }
     },
     "output_type": "display_data"
    }
   ],
   "source": [
    "import pyspark.pandas as ps\n",
    "\n",
    "display(ps.DataFrame(spark.table(\"gl_customer_value_of_purchases\")).nlargest(5, \"value_of_purchases\"))"
   ]
  },
  {
   "cell_type": "markdown",
   "metadata": {
    "application/vnd.databricks.v1+cell": {
     "cellMetadata": {},
     "inputWidgets": {},
     "nuid": "ffb2ab3e-bd6e-4e95-8f6f-dfc9917e45e8",
     "showTitle": false,
     "title": ""
    }
   },
   "source": [
    "## Who was the employee who made more sales last year?\n",
    "\n",
    "Using **HiveQL** and **gl_employees_sales_per_year**"
   ]
  },
  {
   "cell_type": "code",
   "execution_count": null,
   "metadata": {
    "application/vnd.databricks.v1+cell": {
     "cellMetadata": {},
     "inputWidgets": {},
     "nuid": "0c137259-6933-475a-98c8-2ebff4f9b5c0",
     "showTitle": false,
     "title": ""
    }
   },
   "outputs": [
    {
     "data": {
      "text/html": [
       "<style scoped>\n",
       "  .table-result-container {\n",
       "    max-height: 300px;\n",
       "    overflow: auto;\n",
       "  }\n",
       "  table, th, td {\n",
       "    border: 1px solid black;\n",
       "    border-collapse: collapse;\n",
       "  }\n",
       "  th, td {\n",
       "    padding: 5px;\n",
       "  }\n",
       "  th {\n",
       "    text-align: left;\n",
       "  }\n",
       "</style><div class='table-result-container'><table class='table-result'><thead style='background-color: white'><tr><th>employee_id</th><th>first_name</th><th>last_name</th><th>year</th><th>number_of_sales</th></tr></thead><tbody><tr><td>4</td><td>Margaret</td><td>Peacock</td><td>1998</td><td>44</td></tr></tbody></table></div>"
      ]
     },
     "metadata": {
      "application/vnd.databricks.v1+output": {
       "addedWidgets": {},
       "aggData": [],
       "aggError": "",
       "aggOverflow": false,
       "aggSchema": [],
       "aggSeriesLimitReached": false,
       "aggType": "",
       "arguments": {},
       "columnCustomDisplayInfos": {},
       "data": [
        [
         "4",
         "Margaret",
         "Peacock",
         1998,
         44
        ]
       ],
       "datasetInfos": [],
       "dbfsResultPath": null,
       "isJsonSchema": true,
       "metadata": {},
       "overflow": false,
       "plotOptions": {
        "customPlotOptions": {},
        "displayType": "table",
        "pivotAggregation": null,
        "pivotColumns": null,
        "xColumns": null,
        "yColumns": null
       },
       "removedWidgets": [],
       "schema": [
        {
         "metadata": "{}",
         "name": "employee_id",
         "type": "\"string\""
        },
        {
         "metadata": "{}",
         "name": "first_name",
         "type": "\"string\""
        },
        {
         "metadata": "{}",
         "name": "last_name",
         "type": "\"string\""
        },
        {
         "metadata": "{}",
         "name": "year",
         "type": "\"integer\""
        },
        {
         "metadata": "{}",
         "name": "number_of_sales",
         "type": "\"long\""
        }
       ],
       "type": "table"
      }
     },
     "output_type": "display_data"
    }
   ],
   "source": [
    "spark.sql(f\"\"\"\n",
    "    WITH last_year AS (\n",
    "    SELECT \n",
    "        *\n",
    "    FROM gl_employees_sales_per_year \n",
    "    WHERE year = (SELECT MAX(year) FROM gl_employees_sales_per_year)\n",
    "    )\n",
    "    \n",
    "    SELECT \n",
    "        * \n",
    "    FROM last_year\n",
    "    WHERE number_of_sales = (SELECT MAX(number_of_sales) FROM last_year)\n",
    "\"\"\").display()"
   ]
  }
 ],
 "metadata": {
  "application/vnd.databricks.v1+notebook": {
   "dashboards": [],
   "language": "python",
   "notebookMetadata": {
    "mostRecentlyExecutedCommandWithImplicitDF": {
     "commandId": -1,
     "dataframes": [
      "_sqldf"
     ]
    },
    "pythonIndentUnit": 4
   },
   "notebookName": "4.0-ejk-analysis",
   "notebookOrigID": 192829599997553,
   "widgets": {}
  },
  "kernelspec": {
   "display_name": "data-science",
   "language": "python",
   "name": "python3"
  },
  "language_info": {
   "name": "python",
   "version": "3.9.13 | packaged by conda-forge | (main, May 27 2022, 17:00:52) \n[Clang 13.0.1 ]"
  },
  "vscode": {
   "interpreter": {
    "hash": "6fb7f821048b66e4dcbd0fd681d1654d7ce6bc35c8355f3e5aa7a4fc5e44c33b"
   }
  }
 },
 "nbformat": 4,
 "nbformat_minor": 0
}
