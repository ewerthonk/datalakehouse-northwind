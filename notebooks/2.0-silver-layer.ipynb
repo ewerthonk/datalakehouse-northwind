{
 "cells": [
  {
   "cell_type": "markdown",
   "metadata": {
    "application/vnd.databricks.v1+cell": {
     "cellMetadata": {},
     "inputWidgets": {},
     "nuid": "65a9d2e3-9335-426b-9e99-c8d9d39848a6",
     "showTitle": false,
     "title": ""
    }
   },
   "source": [
    "# Setup"
   ]
  },
  {
   "cell_type": "code",
   "execution_count": 0,
   "metadata": {
    "application/vnd.databricks.v1+cell": {
     "cellMetadata": {},
     "inputWidgets": {},
     "nuid": "3e767d0e-76c5-4f39-b025-f773522e1623",
     "showTitle": false,
     "title": ""
    }
   },
   "outputs": [
    {
     "data": {
      "text/plain": [
       "Out[1]: DataFrame[]"
      ]
     },
     "metadata": {
      "application/vnd.databricks.v1+output": {
       "addedWidgets": {},
       "arguments": {},
       "data": "Out[1]: DataFrame[]",
       "datasetInfos": [],
       "metadata": {},
       "removedWidgets": [],
       "type": "ansi"
      }
     },
     "output_type": "display_data"
    }
   ],
   "source": [
    "database_name = \"northwind\"\n",
    "spark.sql(f\"USE SCHEMA {database_name};\")"
   ]
  },
  {
   "cell_type": "markdown",
   "metadata": {
    "application/vnd.databricks.v1+cell": {
     "cellMetadata": {},
     "inputWidgets": {},
     "nuid": "e118ec37-acd9-4f7c-ade4-b9b503a0e8a1",
     "showTitle": false,
     "title": ""
    }
   },
   "source": [
    "# Creating Silver Layer\n",
    "\n",
    "4 tables will be created:\n",
    "- br_products -> si_products: no transformation needed - just merging into.\n",
    "- br_order_details -> si_order_details: no transformation needed - just merging into.\n",
    "- br_orders -> si_orders: null values (only present in columns of string type) will be converted into \"Not specified\" and columns with dates will be converted from timestamp to date.\n",
    "- br_employees -> si_employees: null values on column ```region``` will be converted into \"Not specified\" and droped on column ```reports_to```. Also, columns with dates will be converted from timestamp to date.\n",
    "- br_customers -> si_customers: null values on column ```region``` will be converted into \"Not specified\" and to \"Not provided\" on columns ```postal_code, fax```."
   ]
  },
  {
   "cell_type": "markdown",
   "metadata": {
    "application/vnd.databricks.v1+cell": {
     "cellMetadata": {},
     "inputWidgets": {},
     "nuid": "990e6c6b-056b-4ac2-9d50-8e08f1b52d9f",
     "showTitle": false,
     "title": ""
    }
   },
   "source": [
    "## Table: \"products\""
   ]
  },
  {
   "cell_type": "code",
   "execution_count": 0,
   "metadata": {
    "application/vnd.databricks.v1+cell": {
     "cellMetadata": {},
     "inputWidgets": {},
     "nuid": "6539b1df-d7ac-4acc-b15d-4265468a18e4",
     "showTitle": false,
     "title": ""
    }
   },
   "outputs": [
    {
     "data": {
      "text/plain": [
       "Out[2]: DataFrame[num_affected_rows: bigint, num_updated_rows: bigint, num_deleted_rows: bigint, num_inserted_rows: bigint]"
      ]
     },
     "metadata": {
      "application/vnd.databricks.v1+output": {
       "addedWidgets": {},
       "arguments": {},
       "data": "Out[2]: DataFrame[num_affected_rows: bigint, num_updated_rows: bigint, num_deleted_rows: bigint, num_inserted_rows: bigint]",
       "datasetInfos": [],
       "metadata": {},
       "removedWidgets": [],
       "type": "ansi"
      }
     },
     "output_type": "display_data"
    }
   ],
   "source": [
    "spark.sql(f\"\"\"\n",
    "    CREATE TABLE IF NOT EXISTS si_products\n",
    "    TBLPROPERTIES('quality'='silver')\n",
    "    AS SELECT *\n",
    "    FROM br_products\n",
    "    LIMIT 0\n",
    "\"\"\")\n",
    "\n",
    "spark.sql(f\"\"\" \n",
    "    MERGE INTO si_products\n",
    "    USING br_products\n",
    "    ON si_products.product_id = br_products.product_id\n",
    "    WHEN MATCHED THEN\n",
    "      UPDATE SET *\n",
    "    WHEN NOT MATCHED\n",
    "      THEN INSERT *\n",
    "\"\"\")"
   ]
  },
  {
   "cell_type": "markdown",
   "metadata": {
    "application/vnd.databricks.v1+cell": {
     "cellMetadata": {},
     "inputWidgets": {},
     "nuid": "5354fbf7-0e3e-4183-b39b-4c0ae159b375",
     "showTitle": false,
     "title": ""
    }
   },
   "source": [
    "## Table: \"order_details\""
   ]
  },
  {
   "cell_type": "code",
   "execution_count": 0,
   "metadata": {
    "application/vnd.databricks.v1+cell": {
     "cellMetadata": {},
     "inputWidgets": {},
     "nuid": "2309e64c-bfa2-4c79-8d5d-3cc50d0f4204",
     "showTitle": false,
     "title": ""
    }
   },
   "outputs": [
    {
     "data": {
      "text/plain": [
       "Out[3]: DataFrame[num_affected_rows: bigint, num_updated_rows: bigint, num_deleted_rows: bigint, num_inserted_rows: bigint]"
      ]
     },
     "metadata": {
      "application/vnd.databricks.v1+output": {
       "addedWidgets": {},
       "arguments": {},
       "data": "Out[3]: DataFrame[num_affected_rows: bigint, num_updated_rows: bigint, num_deleted_rows: bigint, num_inserted_rows: bigint]",
       "datasetInfos": [],
       "metadata": {},
       "removedWidgets": [],
       "type": "ansi"
      }
     },
     "output_type": "display_data"
    }
   ],
   "source": [
    "spark.sql(f\"\"\"\n",
    "    CREATE TABLE IF NOT EXISTS si_order_details\n",
    "    TBLPROPERTIES('quality'='silver')\n",
    "    AS SELECT *\n",
    "    FROM br_order_details\n",
    "    LIMIT 0\n",
    "\"\"\")\n",
    "\n",
    "spark.sql(f\"\"\" \n",
    "    MERGE INTO si_order_details\n",
    "    USING br_order_details\n",
    "    ON (si_order_details.order_id = br_order_details.order_id\n",
    "      AND si_order_details.product_id = br_order_details.product_id)\n",
    "    WHEN MATCHED THEN\n",
    "      UPDATE SET *\n",
    "    WHEN NOT MATCHED\n",
    "      THEN INSERT *\n",
    "\"\"\")"
   ]
  },
  {
   "cell_type": "markdown",
   "metadata": {
    "application/vnd.databricks.v1+cell": {
     "cellMetadata": {},
     "inputWidgets": {},
     "nuid": "4558b450-4d4a-499d-9322-11610a433993",
     "showTitle": false,
     "title": ""
    }
   },
   "source": [
    "## Table: \"orders\""
   ]
  },
  {
   "cell_type": "code",
   "execution_count": 0,
   "metadata": {
    "application/vnd.databricks.v1+cell": {
     "cellMetadata": {},
     "inputWidgets": {},
     "nuid": "1812a524-ca6d-4f68-ab34-ec88080fcbbc",
     "showTitle": false,
     "title": ""
    }
   },
   "outputs": [
    {
     "data": {
      "text/plain": [
       "Out[4]: DataFrame[num_affected_rows: bigint]"
      ]
     },
     "metadata": {
      "application/vnd.databricks.v1+output": {
       "addedWidgets": {},
       "arguments": {},
       "data": "Out[4]: DataFrame[num_affected_rows: bigint]",
       "datasetInfos": [],
       "metadata": {},
       "removedWidgets": [],
       "type": "ansi"
      }
     },
     "output_type": "display_data"
    }
   ],
   "source": [
    "spark.sql(f\"\"\"\n",
    "    CREATE TABLE IF NOT EXISTS si_orders\n",
    "    TBLPROPERTIES('quality'='silver')\n",
    "    AS SELECT *\n",
    "    FROM br_orders\n",
    "\"\"\")\n",
    "\n",
    "spark.sql(f\"\"\"\n",
    "    UPDATE si_orders\n",
    "    SET ship_region = COALESCE(ship_region, 'Not specified'),\n",
    "        ship_postal_code = COALESCE(ship_postal_code, 'Not specified'),\n",
    "        order_date = CAST(order_date AS DATE),\n",
    "        required_date = CAST(required_date AS DATE),\n",
    "        shipped_date = CAST(shipped_date AS DATE);\n",
    "\"\"\")"
   ]
  },
  {
   "cell_type": "markdown",
   "metadata": {
    "application/vnd.databricks.v1+cell": {
     "cellMetadata": {},
     "inputWidgets": {},
     "nuid": "ffb2ab3e-bd6e-4e95-8f6f-dfc9917e45e8",
     "showTitle": false,
     "title": ""
    }
   },
   "source": [
    "## Table: \"employees\""
   ]
  },
  {
   "cell_type": "code",
   "execution_count": 0,
   "metadata": {
    "application/vnd.databricks.v1+cell": {
     "cellMetadata": {},
     "inputWidgets": {},
     "nuid": "74d9440b-53c4-42a6-98d0-f83f3787819e",
     "showTitle": false,
     "title": ""
    }
   },
   "outputs": [
    {
     "data": {
      "text/plain": [
       "Out[5]: DataFrame[num_affected_rows: bigint]"
      ]
     },
     "metadata": {
      "application/vnd.databricks.v1+output": {
       "addedWidgets": {},
       "arguments": {},
       "data": "Out[5]: DataFrame[num_affected_rows: bigint]",
       "datasetInfos": [],
       "metadata": {},
       "removedWidgets": [],
       "type": "ansi"
      }
     },
     "output_type": "display_data"
    }
   ],
   "source": [
    "spark.sql(f\"\"\"\n",
    "    CREATE TABLE IF NOT EXISTS si_employees\n",
    "    TBLPROPERTIES('quality'='silver')\n",
    "    AS SELECT *\n",
    "    FROM br_employees\n",
    "\"\"\")\n",
    "\n",
    "spark.sql(f\"\"\"\n",
    "    DELETE FROM si_employees \n",
    "    WHERE reports_to IS NULL;\n",
    "\"\"\")\n",
    "\n",
    "spark.sql(f\"\"\"\n",
    "    UPDATE si_employees \n",
    "    SET region = COALESCE(region, 'Not specified'),\n",
    "        birth_date = CAST(birth_date AS DATE),\n",
    "        hire_date = CAST(hire_date AS DATE);\n",
    "\"\"\")"
   ]
  },
  {
   "cell_type": "markdown",
   "metadata": {
    "application/vnd.databricks.v1+cell": {
     "cellMetadata": {},
     "inputWidgets": {},
     "nuid": "a0d8bf5f-7661-45b3-bef2-dfcb62c81c3b",
     "showTitle": false,
     "title": ""
    }
   },
   "source": [
    "## Table: \"customers\""
   ]
  },
  {
   "cell_type": "code",
   "execution_count": 0,
   "metadata": {
    "application/vnd.databricks.v1+cell": {
     "cellMetadata": {},
     "inputWidgets": {},
     "nuid": "5545b999-c577-45fc-8d20-263af53e080d",
     "showTitle": false,
     "title": ""
    }
   },
   "outputs": [
    {
     "data": {
      "text/plain": [
       "Out[6]: DataFrame[num_affected_rows: bigint]"
      ]
     },
     "metadata": {
      "application/vnd.databricks.v1+output": {
       "addedWidgets": {},
       "arguments": {},
       "data": "Out[6]: DataFrame[num_affected_rows: bigint]",
       "datasetInfos": [],
       "metadata": {},
       "removedWidgets": [],
       "type": "ansi"
      }
     },
     "output_type": "display_data"
    }
   ],
   "source": [
    "spark.sql(f\"\"\"\n",
    "    CREATE TABLE IF NOT EXISTS si_customers\n",
    "    TBLPROPERTIES('quality'='silver')\n",
    "    AS SELECT *\n",
    "    FROM br_customers\n",
    "\"\"\")\n",
    "\n",
    "spark.sql(f\"\"\"\n",
    "    UPDATE si_customers\n",
    "    SET region = COALESCE(region, 'Not specified'),\n",
    "        postal_code = COALESCE(postal_code, 'Not provided'),\n",
    "        fax = COALESCE(fax, 'Not provided');\n",
    "\"\"\")"
   ]
  }
 ],
 "metadata": {
  "application/vnd.databricks.v1+notebook": {
   "dashboards": [],
   "language": "python",
   "notebookMetadata": {
    "mostRecentlyExecutedCommandWithImplicitDF": {
     "commandId": -1,
     "dataframes": [
      "_sqldf"
     ]
    },
    "pythonIndentUnit": 4
   },
   "notebookName": "2.0-ejk-silver-layer",
   "notebookOrigID": 724072542102454,
   "widgets": {}
  },
  "language_info": {
   "name": "python"
  }
 },
 "nbformat": 4,
 "nbformat_minor": 0
}
